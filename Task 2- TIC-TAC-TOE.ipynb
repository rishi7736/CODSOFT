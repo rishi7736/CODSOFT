{
  "cells": [
    {
      "cell_type": "markdown",
      "metadata": {
        "id": "INd6lpWcTV-h"
      },
      "source": [
        "#**Author : Rhishitha T S**"
      ]
    },
    {
      "cell_type": "markdown",
      "metadata": {
        "id": "QWTaldGmTlG3"
      },
      "source": [
        "##**TASK 2: TIC-TAC-TOE**"
      ]
    },
    {
      "cell_type": "code",
      "source": [
        "import copy\n",
        "\n",
        "class TicTacToe:\n",
        "    def __init__(self):\n",
        "        self.board = [[' ' for _ in range(3)] for _ in range(3)]\n",
        "        self.current_player = 'X'\n",
        "\n",
        "    def print_board(self):\n",
        "        for row in self.board:\n",
        "            print('|'.join(row))\n",
        "            print('-' * 5)\n",
        "\n",
        "    def is_winner(self, player):\n",
        "        # Check rows\n",
        "        for row in self.board:\n",
        "            if all(cell == player for cell in row):\n",
        "                return True\n",
        "\n",
        "        for col in range(3):\n",
        "            if all(self.board[row][col] == player for row in range(3)):\n",
        "                return True\n",
        "\n",
        "        if all(self.board[i][i] == player for i in range(3)) or all(self.board[i][2-i] == player for i in range(3)):\n",
        "            return True\n",
        "\n",
        "        return False\n",
        "\n",
        "    def is_full(self):\n",
        "        for row in self.board:\n",
        "            if ' ' in row:\n",
        "                return False\n",
        "        return True\n",
        "\n",
        "    def is_game_over(self):\n",
        "        return self.is_winner('X') or self.is_winner('O') or self.is_full()\n",
        "\n",
        "    def get_available_moves(self):\n",
        "        moves = []\n",
        "        for i in range(3):\n",
        "            for j in range(3):\n",
        "                if self.board[i][j] == ' ':\n",
        "                    moves.append((i, j))\n",
        "        return moves\n",
        "\n",
        "    def make_move(self, move):\n",
        "        if self.board[move[0]][move[1]] == ' ':\n",
        "            self.board[move[0]][move[1]] = self.current_player\n",
        "            self.current_player = 'O' if self.current_player == 'X' else 'X'\n",
        "            return True\n",
        "        return False\n",
        "\n",
        "    def minimax(self, depth, maximizing_player):\n",
        "        if self.is_winner('X'):\n",
        "            return -1\n",
        "        if self.is_winner('O'):\n",
        "            return 1\n",
        "        if self.is_full():\n",
        "            return 0\n",
        "\n",
        "        if maximizing_player:\n",
        "            max_eval = float('-inf')\n",
        "            for move in self.get_available_moves():\n",
        "                new_board = copy.deepcopy(self)\n",
        "                new_board.make_move(move)\n",
        "                eval = new_board.minimax(depth + 1, False)\n",
        "                max_eval = max(max_eval, eval)\n",
        "            return max_eval\n",
        "        else:\n",
        "            min_eval = float('inf')\n",
        "            for move in self.get_available_moves():\n",
        "                new_board = copy.deepcopy(self)\n",
        "                new_board.make_move(move)\n",
        "                eval = new_board.minimax(depth + 1, True)\n",
        "                min_eval = min(min_eval, eval)\n",
        "            return min_eval\n",
        "\n",
        "    def find_best_move(self):\n",
        "        best_move = None\n",
        "        best_eval = float('-inf')\n",
        "        for move in self.get_available_moves():\n",
        "            new_board = copy.deepcopy(self)\n",
        "            new_board.make_move(move)\n",
        "            eval = new_board.minimax(0, False)\n",
        "            if eval > best_eval:\n",
        "                best_eval = eval\n",
        "                best_move = move\n",
        "        return best_move"
      ],
      "metadata": {
        "id": "4VKtCXfj28vp"
      },
      "execution_count": null,
      "outputs": []
    },
    {
      "cell_type": "code",
      "source": [
        "def main():\n",
        "    game = TicTacToe()\n",
        "    while not game.is_game_over():\n",
        "        game.print_board()\n",
        "        if game.current_player == 'X':\n",
        "            while True:\n",
        "                row = int(input(\"Enter the row (0, 1, or 2): \"))\n",
        "                col = int(input(\"Enter the column (0, 1, or 2): \"))\n",
        "                if game.make_move((row, col)):\n",
        "                    break\n",
        "                else:\n",
        "                    print(\"Invalid move. Try again.\")\n",
        "        else:\n",
        "            print(\"It's AI's turn! AI is thinking....\")\n",
        "            best_move = game.find_best_move()\n",
        "            game.make_move(best_move)\n",
        "        print(\"\\n\")\n",
        "\n",
        "    game.print_board()\n",
        "    if game.is_winner('X'):\n",
        "        print(\"Congratulations! You win!\")\n",
        "    elif game.is_winner('O'):\n",
        "        print(\"AI wins!\")\n",
        "    else:\n",
        "        print(\"It's a draw! I hope you defeat AI next time!\")\n",
        "\n",
        "if __name__ == \"__main__\":\n",
        "    main()\n"
      ],
      "metadata": {
        "colab": {
          "base_uri": "https://localhost:8080/",
          "height": 297
        },
        "id": "VyzvP4oy3BIt",
        "outputId": "5ec12494-7928-49c6-aa52-ee5e803d2187"
      },
      "execution_count": 1,
      "outputs": [
        {
          "output_type": "error",
          "ename": "NameError",
          "evalue": "name 'TicTacToe' is not defined",
          "traceback": [
            "\u001b[0;31m---------------------------------------------------------------------------\u001b[0m",
            "\u001b[0;31mNameError\u001b[0m                                 Traceback (most recent call last)",
            "\u001b[0;32m<ipython-input-1-0686b0c8c44d>\u001b[0m in \u001b[0;36m<cell line: 27>\u001b[0;34m()\u001b[0m\n\u001b[1;32m     26\u001b[0m \u001b[0;34m\u001b[0m\u001b[0m\n\u001b[1;32m     27\u001b[0m \u001b[0;32mif\u001b[0m \u001b[0m__name__\u001b[0m \u001b[0;34m==\u001b[0m \u001b[0;34m\"__main__\"\u001b[0m\u001b[0;34m:\u001b[0m\u001b[0;34m\u001b[0m\u001b[0;34m\u001b[0m\u001b[0m\n\u001b[0;32m---> 28\u001b[0;31m     \u001b[0mmain\u001b[0m\u001b[0;34m(\u001b[0m\u001b[0;34m)\u001b[0m\u001b[0;34m\u001b[0m\u001b[0;34m\u001b[0m\u001b[0m\n\u001b[0m",
            "\u001b[0;32m<ipython-input-1-0686b0c8c44d>\u001b[0m in \u001b[0;36mmain\u001b[0;34m()\u001b[0m\n\u001b[1;32m      1\u001b[0m \u001b[0;32mdef\u001b[0m \u001b[0mmain\u001b[0m\u001b[0;34m(\u001b[0m\u001b[0;34m)\u001b[0m\u001b[0;34m:\u001b[0m\u001b[0;34m\u001b[0m\u001b[0;34m\u001b[0m\u001b[0m\n\u001b[0;32m----> 2\u001b[0;31m     \u001b[0mgame\u001b[0m \u001b[0;34m=\u001b[0m \u001b[0mTicTacToe\u001b[0m\u001b[0;34m(\u001b[0m\u001b[0;34m)\u001b[0m\u001b[0;34m\u001b[0m\u001b[0;34m\u001b[0m\u001b[0m\n\u001b[0m\u001b[1;32m      3\u001b[0m     \u001b[0;32mwhile\u001b[0m \u001b[0;32mnot\u001b[0m \u001b[0mgame\u001b[0m\u001b[0;34m.\u001b[0m\u001b[0mis_game_over\u001b[0m\u001b[0;34m(\u001b[0m\u001b[0;34m)\u001b[0m\u001b[0;34m:\u001b[0m\u001b[0;34m\u001b[0m\u001b[0;34m\u001b[0m\u001b[0m\n\u001b[1;32m      4\u001b[0m         \u001b[0mgame\u001b[0m\u001b[0;34m.\u001b[0m\u001b[0mprint_board\u001b[0m\u001b[0;34m(\u001b[0m\u001b[0;34m)\u001b[0m\u001b[0;34m\u001b[0m\u001b[0;34m\u001b[0m\u001b[0m\n\u001b[1;32m      5\u001b[0m         \u001b[0;32mif\u001b[0m \u001b[0mgame\u001b[0m\u001b[0;34m.\u001b[0m\u001b[0mcurrent_player\u001b[0m \u001b[0;34m==\u001b[0m \u001b[0;34m'X'\u001b[0m\u001b[0;34m:\u001b[0m\u001b[0;34m\u001b[0m\u001b[0;34m\u001b[0m\u001b[0m\n",
            "\u001b[0;31mNameError\u001b[0m: name 'TicTacToe' is not defined"
          ]
        }
      ]
    },
    {
      "cell_type": "code",
      "source": [],
      "metadata": {
        "id": "yyZ8cdpM3IHj"
      },
      "execution_count": null,
      "outputs": []
    }
  ],
  "metadata": {
    "colab": {
      "provenance": [],
      "gpuType": "T4"
    },
    "kernelspec": {
      "display_name": "Python 3",
      "name": "python3"
    },
    "language_info": {
      "name": "python"
    },
    "accelerator": "GPU"
  },
  "nbformat": 4,
  "nbformat_minor": 0
}