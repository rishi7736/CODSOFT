{
  "cells": [
    {
      "cell_type": "markdown",
      "metadata": {
        "id": "INd6lpWcTV-h"
      },
      "source": [
        "#**Author : Rhishitha T S**"
      ]
    },
    {
      "cell_type": "markdown",
      "metadata": {
        "id": "QWTaldGmTlG3"
      },
      "source": [
        "##**TASK 1: ChatBot with Rule-Based Responses**"
      ]
    },
    {
      "cell_type": "code",
      "execution_count": null,
      "metadata": {
        "colab": {
          "base_uri": "https://localhost:8080/"
        },
        "id": "UANtT2u7QdTC",
        "outputId": "084fd09d-5b5e-42bd-dbda-1c25a1747bd0"
      },
      "outputs": [
        {
          "output_type": "stream",
          "name": "stdout",
          "text": [
            "Requirement already satisfied: nltk in /usr/local/lib/python3.10/dist-packages (3.8.1)\n",
            "Requirement already satisfied: click in /usr/local/lib/python3.10/dist-packages (from nltk) (8.1.7)\n",
            "Requirement already satisfied: joblib in /usr/local/lib/python3.10/dist-packages (from nltk) (1.4.2)\n",
            "Requirement already satisfied: regex>=2021.8.3 in /usr/local/lib/python3.10/dist-packages (from nltk) (2023.12.25)\n",
            "Requirement already satisfied: tqdm in /usr/local/lib/python3.10/dist-packages (from nltk) (4.66.4)\n"
          ]
        }
      ],
      "source": [
        "!pip install nltk"
      ]
    },
    {
      "cell_type": "code",
      "execution_count": null,
      "metadata": {
        "id": "3fsTNcOCQhBm"
      },
      "outputs": [],
      "source": [
        "import nltk"
      ]
    },
    {
      "cell_type": "code",
      "execution_count": null,
      "metadata": {
        "id": "oVT3TDLuQUWY"
      },
      "outputs": [],
      "source": [
        "from nltk.chat.util import Chat, reflections"
      ]
    },
    {
      "cell_type": "code",
      "execution_count": null,
      "metadata": {
        "id": "iPjgBAJJ9FKI"
      },
      "outputs": [],
      "source": [
        "state = { \"Andhra Pradesh : Amaravati\",\n",
        "    \"Arunachal Pradesh : Itanagar\",\n",
        "    \"Assam : Dispur\",\n",
        "    \"Bihar : Patna\",\n",
        "    \"Chhattisgarh : Raipur\",\n",
        "    \"Goa : Panaji\",\n",
        "    \"Gujarat : Gandhinagar\",\n",
        "    \"Haryana : Chandigarh\",\n",
        "    \"Himachal Pradesh : Shimla\",\n",
        "    \"Jharkhand : Ranchi\",\n",
        "    \"Karnataka : Bengaluru\",\n",
        "    \"Kerala : Thiruvananthapuram\",\n",
        "    \"Madhya Pradesh : Bhopal\",\n",
        "    \"Maharashtra : Mumbai\",\n",
        "    \"Manipur : Imphal\",\n",
        "    \"Meghalaya : Shillong\",\n",
        "    \"Mizoram : Aizawl\",\n",
        "    \"Nagaland : Kohima\",\n",
        "    \"Odisha : Bhubaneswar\",\n",
        "    \"Punjab : Chandigarh\",\n",
        "    \"Rajasthan : Jaipur\",\n",
        "    \"Sikkim : Gangtok\",\n",
        "    \"Tamil Nadu : Chennai\",\n",
        "    \"Telangana : Hyderabad\",\n",
        "    \"Tripura : Agartala\",\n",
        "    \"Uttar Pradesh : Lucknow\",\n",
        "    \"Uttarakhand : Dehradun\",\n",
        "    \"West Bengal : Kolkata\"}\n",
        "\n",
        "def get_capital(state):\n",
        "    \"\"\"Retrieves the capital city of a state from the capitals dictionary.\"\"\"\n",
        "    state = state.strip()  # Remove leading/trailing spaces for case-insensitivity\n",
        "    return capitals.get(state)\n"
      ]
    },
    {
      "cell_type": "code",
      "execution_count": null,
      "metadata": {
        "id": "Fo1dg64R9irK"
      },
      "outputs": [],
      "source": [
        "tourist_destinations = [\n",
        "    \"Taj Mahal, Agra, Uttar Pradesh\",\n",
        "    \"Jaipur, Rajasthan (Pink City)\",\n",
        "    \"Varanasi, Uttar Pradesh\",\n",
        "    \"Goa (Beaches and Nightlife)\",\n",
        "    \"Kerala (Backwaters and Ayurveda)\",\n",
        "    \"Leh-Ladakh, Jammu and Kashmir\",\n",
        "    \"Darjeeling, West Bengal (Tea Gardens)\",\n",
        "    \"Mysore, Karnataka (Mysore Palace)\",\n",
        "    \"Rishikesh, Uttarakhand (Yoga and Adventure Sports)\",\n",
        "    \"Khajuraho, Madhya Pradesh (Erotic Temples)\",\n",
        "    \"Amritsar, Punjab (Golden Temple)\",\n",
        "    \"Hampi, Karnataka (Ancient Ruins)\",\n",
        "    \"Ranthambore, Rajasthan (Wildlife Safari)\",\n",
        "    \"Kanyakumari, Tamil Nadu (Southern Tip of India)\",\n",
        "    \"Srinagar, Jammu and Kashmir (Dal Lake)\",\n",
        "    \"Andaman and Nicobar Islands (Beaches and Marine Life)\",\n",
        "    \"Mumbai, Maharashtra (Gateway of India)\",\n",
        "    \"Kolkata, West Bengal (Victoria Memorial)\",\n",
        "    \"Agra, Uttar Pradesh (Fatehpur Sikri)\",\n",
        "    \"Delhi (Red Fort, Qutub Minar)\"\n",
        "]\n"
      ]
    },
    {
      "cell_type": "code",
      "execution_count": null,
      "metadata": {
        "id": "D_vgt7kdQ2qq"
      },
      "outputs": [],
      "source": [
        "chatbot_details = [\n",
        "        r\"(.*) your name ?\",\n",
        "        [\"My name is Zootopia, but you can just call me Zoopie and I'm a chatbot .\",]\n",
        "        ],[\n",
        "        r\"how are you (.*) ?\",\n",
        "        [\"I'm doing very well\", \"i am great !\", \"I'm doing good! What about you dear?\",]\n",
        "        ],[\n",
        "        r\"(hi|hey|hello|hola|holla)(.*)\",\n",
        "        [\"Hello\", \"Hey there\",]\n",
        "        ],[\n",
        "        r\"(.*)created(.*)\",\n",
        "        [\"Rhishitha T S created me using Python's NLTK library \",\"It's a top secret!\",]\n",
        "        ],[\n",
        "        r\"how (.*) health (.*)\",\n",
        "        [\"Health is very important, but I am a computer, so I don't need to worry about my health \",]\n",
        "        ],[\n",
        "        r\"quit\",\n",
        "        [\"Bye for now. See you soon :) \",\"It was nice talking to you. See you soon :)\"]\n",
        "        ]\n",
        "\n",
        "\n",
        "state_details = [\n",
        "    r\"(.*)(many states|number of states)(.*)?\",\n",
        "    [\"There are total 28 states in India! Do you want to know the names?\",]\n",
        "    ],[\n",
        "        r\"(.*) name of the states (.*)?\",\n",
        "        [\"\\n* Andhra Pradesh\\n* Arunachal Pradesh\\n* Assam\\n* Bihar\\n* Chhattisgarh\\n* Goa\\n* Gujarat\\n* Haryana\\n* Himachal Pradesh\\n* Jharkhand\\n* Karnataka\\n* Kerala\\n* Madhya Pradesh\\n* Maharashtra\\n* Manipur\\n* Meghalaya\\n* Mizoram\\n* Nagaland\\n* Odisha\\n* Punjab\\n* Rajasthan\\n* Sikkim\\n* Tamil Nadu\\n* Telangana\\n* Tripura\\n* Uttar Pradesh\\n* Uttarakhand\\n* West Bengal\",]\n",
        "    ],[\n",
        "        r\"quit\",\n",
        "        [\"Bye for now. See you soon :) \",\"It was nice talking to you. See you soon :)\"]\n",
        "    ],[\n",
        "        r\"(.*) tourist places (.*)\",\n",
        "        [\"\\n* Taj Mahal, Agra, Uttar Pradesh\\n* Jaipur, Rajasthan (Pink City)\\n* Varanasi, Uttar Pradesh\\n* Goa (Beaches and Nightlife)\\n* Kerala (Backwaters and Ayurveda)\\n* Leh-Ladakh, Jammu and Kashmir\\n* Darjeeling, West Bengal (Tea Gardens)\\n* Mysore, Karnataka (Mysore Palace)\\n* Rishikesh, Uttarakhand (Yoga and Adventure Sports)\\n* Khajuraho, Madhya Pradesh (Erotic Temples)\\n* Amritsar, Punjab (Golden Temple)\\n* Hampi, Karnataka (Ancient Ruins)\\n* Ranthambore, Rajasthan (Wildlife Safari)\\n* Kanyakumari, Tamil Nadu (Southern Tip of India)\\n* Srinagar, Jammu and Kashmir (Dal Lake)\\n* Andaman and Nicobar Islands (Beaches and Marine Life)\\n* Mumbai, Maharashtra (Gateway of India)\\n* Kolkata, West Bengal (Victoria Memorial)\\n* Agra, Uttar Pradesh (Fatehpur Sikri)\\n* Delhi (Red Fort, Qutub Minar)\\n\"]\n",
        "    ]\n"
      ]
    },
    {
      "cell_type": "code",
      "execution_count": null,
      "metadata": {
        "colab": {
          "base_uri": "https://localhost:8080/"
        },
        "id": "aKc833M2I0MN",
        "outputId": "e7e09c19-ccd8-4c6a-e885-a8737e4fa6ef"
      },
      "outputs": [
        {
          "output_type": "stream",
          "name": "stdout",
          "text": [
            "Hi, I'm Zootopia and I like to chat.\n",
            "Please type in English language (lowercase) to start a conversation. Type quit to leave. \n",
            "\n",
            "Kindly choose one topic (enter only the number) : \n",
            "\n",
            "1. ChatBot details\n",
            "2. States in India\n",
            "\n",
            "2\n",
            "\n",
            "You can ask for the following questions about states in India: \n",
            "* Number of states in India\n",
            "* Name of the states in India\n",
            "* Tourist places in India\n",
            "\n",
            ">quit\n",
            "Bye for now. See you soon :) \n"
          ]
        }
      ],
      "source": [
        "print(\"Hi, I'm Zootopia and I like to chat.\\nPlease type in English language (lowercase) to start a conversation. Type quit to leave. \\n\")\n",
        "n = int(input(\"Kindly choose one topic (enter only the number) : \\n\\n1. ChatBot details\\n2. States in India\\n\\n\"))\n",
        "if (n==1):\n",
        "  chatbot =Chat(chatbot_details)\n",
        "  chatbot.converse()\n",
        "elif (n==2):\n",
        "  chatbot =Chat(state_details)\n",
        "  print(\"\\nYou can ask for the following questions about states in India: \\n* Number of states in India\\n* Name of the states in India\\n* Tourist places in India\\n\")\n",
        "  chatbot.converse()\n",
        "else:\n",
        "  print(\"Invalid Input !!\")"
      ]
    }
  ],
  "metadata": {
    "colab": {
      "provenance": [],
      "gpuType": "T4"
    },
    "kernelspec": {
      "display_name": "Python 3",
      "name": "python3"
    },
    "language_info": {
      "name": "python"
    },
    "accelerator": "GPU"
  },
  "nbformat": 4,
  "nbformat_minor": 0
}